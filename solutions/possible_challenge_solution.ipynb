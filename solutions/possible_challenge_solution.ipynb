{
 "cells": [
  {
   "cell_type": "markdown",
   "metadata": {},
   "source": [
    "link: https://www.researchgate.net/figure/Calculation-of-Precision-Recall-and-Accuracy-in-the-confusion-matrix_fig3_336402347"
   ]
  },
  {
   "cell_type": "code",
   "execution_count": 101,
   "metadata": {
    "_cell_guid": "b1076dfc-b9ad-4769-8c92-a6c4dae69d19",
    "_uuid": "8f2839f25d086af736a60e9eeb907d3b93b6e0e5",
    "tags": []
   },
   "outputs": [
    {
     "name": "stdout",
     "output_type": "stream",
     "text": [
      "Fitting 5 folds for each of 75 candidates, totalling 375 fits\n"
     ]
    },
    {
     "data": {
      "text/plain": [
       "GridSearchCV(cv=5,\n",
       "             estimator=Pipeline(steps=[('processor',\n",
       "                                        ColumnTransformer(transformers=[('category',\n",
       "                                                                         Pipeline(steps=[('one-hot',\n",
       "                                                                                          OneHotEncoder(handle_unknown='ignore'))]),\n",
       "                                                                         ['cap.shape',\n",
       "                                                                          'cap.color',\n",
       "                                                                          'stalk.color.above.ring',\n",
       "                                                                          'stalk.color.below.ring',\n",
       "                                                                          'population'])])),\n",
       "                                       ('model',\n",
       "                                        DecisionTreeClassifier(random_state=42))]),\n",
       "             n_jobs=-1,\n",
       "             param_grid={'model__max_depth': range(3, 8),\n",
       "                         'model__min_samples_leaf': range(10, 25)},\n",
       "             scoring='recall', verbose=1)"
      ]
     },
     "execution_count": 101,
     "metadata": {},
     "output_type": "execute_result"
    }
   ],
   "source": [
    "import pandas as pd\n",
    "from sklearn.model_selection import train_test_split, GridSearchCV\n",
    "\n",
    "from sklearn.pipeline import Pipeline\n",
    "from sklearn.compose import ColumnTransformer\n",
    "from sklearn.preprocessing import OneHotEncoder\n",
    "from sklearn.ensemble import RandomForestClassifier\n",
    "from sklearn.tree import DecisionTreeClassifier\n",
    "from sklearn.linear_model import LogisticRegression\n",
    "from sklearn.neighbors import KNeighborsClassifier\n",
    "\n",
    "mush = pd.read_csv('../data/train.csv').drop(columns=['Id']).drop_duplicates()\n",
    "mush_test= pd.read_csv('../data/test.csv')\n",
    "\n",
    "\n",
    "columns_to_keep = mush_test.columns.to_list()\n",
    "mush.drop(mush.columns.difference(columns_to_keep+['poisonous']), axis=1, inplace=True)\n",
    "\n",
    "X = mush.drop(columns=['poisonous'])\n",
    "y = mush['poisonous']\n",
    "\n",
    "X_train, X_test, y_train, y_test = train_test_split(\n",
    "    X, y, train_size=.8, random_state=8)\n",
    "\n",
    "cat_col= list(X_train.select_dtypes(include=[\"object\"]))\n",
    "categorical_pipeline = Pipeline(steps=[\n",
    "    ('one-hot', OneHotEncoder(handle_unknown='ignore'))\n",
    "])\n",
    "\n",
    "full_processor = ColumnTransformer(transformers=[\n",
    "    ('category', categorical_pipeline, cat_col)\n",
    "])\n",
    "model_pipeline = Pipeline(steps=[\n",
    "    ('processor', full_processor), \n",
    "    # define parameters for the model fo be sure you avoid overfitting\n",
    "    ('model', DecisionTreeClassifier(random_state=42))\n",
    "])\n",
    "# _ = model_pipeline.fit(X_train, y_train)\n",
    "\n",
    "\n",
    "\n",
    "grid_search = GridSearchCV(\n",
    "    model_pipeline\n",
    "    , {\n",
    "        'model__max_depth': range(3, 8),\n",
    "        'model__min_samples_leaf': range(10, 25)\n",
    "    },\n",
    "    scoring='recall',\n",
    "    cv=5,\n",
    "    n_jobs=-1,\n",
    "    verbose=1\n",
    "    )\n",
    "grid_search.fit(X_train, y_train)"
   ]
  },
  {
   "cell_type": "code",
   "execution_count": 103,
   "metadata": {},
   "outputs": [
    {
     "data": {
      "text/html": [
       "<div>\n",
       "<style scoped>\n",
       "    .dataframe tbody tr th:only-of-type {\n",
       "        vertical-align: middle;\n",
       "    }\n",
       "\n",
       "    .dataframe tbody tr th {\n",
       "        vertical-align: top;\n",
       "    }\n",
       "\n",
       "    .dataframe thead th {\n",
       "        text-align: right;\n",
       "    }\n",
       "</style>\n",
       "<table border=\"1\" class=\"dataframe\">\n",
       "  <thead>\n",
       "    <tr style=\"text-align: right;\">\n",
       "      <th>Predicted</th>\n",
       "      <th>0</th>\n",
       "      <th>1</th>\n",
       "    </tr>\n",
       "    <tr>\n",
       "      <th>Actual</th>\n",
       "      <th></th>\n",
       "      <th></th>\n",
       "    </tr>\n",
       "  </thead>\n",
       "  <tbody>\n",
       "    <tr>\n",
       "      <th>0</th>\n",
       "      <td>33</td>\n",
       "      <td>11</td>\n",
       "    </tr>\n",
       "    <tr>\n",
       "      <th>1</th>\n",
       "      <td>16</td>\n",
       "      <td>20</td>\n",
       "    </tr>\n",
       "  </tbody>\n",
       "</table>\n",
       "</div>"
      ],
      "text/plain": [
       "Predicted   0   1\n",
       "Actual           \n",
       "0          33  11\n",
       "1          16  20"
      ]
     },
     "execution_count": 103,
     "metadata": {},
     "output_type": "execute_result"
    }
   ],
   "source": [
    "pd.crosstab(y_test, grid_search.predict(X_test), rownames=['Actual'], colnames=['Predicted'])"
   ]
  },
  {
   "cell_type": "code",
   "execution_count": 104,
   "metadata": {},
   "outputs": [],
   "source": [
    "def get_miss_predicted_poisonous_mushrooms(model, X_test, y_test):\n",
    "    \"\"\"\n",
    "    This function returns a dataframe of mushrooms that were predicted NOT to be poisonous, but actually were.\n",
    "    \"\"\"\n",
    "    return (\n",
    "    X_test\n",
    "        .assign(\n",
    "            preds =  grid_search.predict(X_test),\n",
    "            poisonous = y_test\n",
    "        )\n",
    "        .query('poisonous == 1 & preds == 0')\n",
    "        .drop(columns=['preds'])\n",
    "        )\n",
    "new_mush = mush"
   ]
  },
  {
   "cell_type": "code",
   "execution_count": 105,
   "metadata": {},
   "outputs": [
    {
     "name": "stdout",
     "output_type": "stream",
     "text": [
      "Fitting 5 folds for each of 75 candidates, totalling 375 fits\n",
      "\n",
      "Iteration 1\n",
      "Predicted   0   1\n",
      "Actual           \n",
      "0          33  10\n",
      "1          20  20\n",
      "Fitting 5 folds for each of 75 candidates, totalling 375 fits\n",
      "\n",
      "Iteration 2\n",
      "Predicted   0   1\n",
      "Actual           \n",
      "0          29  13\n",
      "1          10  35\n",
      "Fitting 5 folds for each of 75 candidates, totalling 375 fits\n",
      "\n",
      "Iteration 3\n",
      "Predicted   0   1\n",
      "Actual           \n",
      "0          26  18\n",
      "1          13  32\n",
      "Fitting 5 folds for each of 75 candidates, totalling 375 fits\n",
      "\n",
      "Iteration 4\n",
      "Predicted   0   1\n",
      "Actual           \n",
      "0          30  19\n",
      "1           7  35\n",
      "Fitting 5 folds for each of 75 candidates, totalling 375 fits\n",
      "\n",
      "Iteration 5\n",
      "Predicted   0   1\n",
      "Actual           \n",
      "0          32  15\n",
      "1          23  23\n",
      "Fitting 5 folds for each of 75 candidates, totalling 375 fits\n",
      "\n",
      "Iteration 6\n",
      "Predicted   0   1\n",
      "Actual           \n",
      "0          36  15\n",
      "1           8  38\n",
      "Fitting 5 folds for each of 75 candidates, totalling 375 fits\n",
      "\n",
      "Iteration 7\n",
      "Predicted   0   1\n",
      "Actual           \n",
      "0          20  24\n",
      "1           7  48\n",
      "Fitting 5 folds for each of 75 candidates, totalling 375 fits\n",
      "\n",
      "Iteration 8\n",
      "Predicted   0   1\n",
      "Actual           \n",
      "0          40   4\n",
      "1          25  31\n",
      "Fitting 5 folds for each of 75 candidates, totalling 375 fits\n",
      "\n",
      "Iteration 9\n",
      "Predicted   0   1\n",
      "Actual           \n",
      "0          39   9\n",
      "1          26  31\n",
      "Fitting 5 folds for each of 75 candidates, totalling 375 fits\n",
      "\n",
      "Iteration 10\n",
      "Predicted   0   1\n",
      "Actual           \n",
      "0          15  24\n",
      "1           0  72\n"
     ]
    }
   ],
   "source": [
    "# add miss predicted poisonous mushrooms to the train dataframe and retrain the model to modify the weights of the poisonous mushrooms\n",
    "# the model will be retrained until there are no miss predicted poisonous mushrooms\n",
    "iteration = 1\n",
    "while get_miss_predicted_poisonous_mushrooms(grid_search, X_test, y_test).shape[0] > 0:\n",
    "    new_mush = pd.concat([new_mush, get_miss_predicted_poisonous_mushrooms(grid_search, X_test, y_test)], axis=0)\n",
    "    X = new_mush.drop(columns=['poisonous'])\n",
    "    y = new_mush['poisonous']\n",
    "    X_train, X_test, y_train, y_test = train_test_split(X, y, train_size=.8, random_state=8)\n",
    "    _ = grid_search.fit(X_train, y_train)\n",
    "    print(f'\\nIteration {iteration}')\n",
    "    iteration += 1\n",
    "    print(pd.crosstab(y_test, grid_search.predict(X_test), rownames=['Actual'], colnames=['Predicted']))"
   ]
  },
  {
   "cell_type": "code",
   "execution_count": 106,
   "metadata": {
    "tags": []
   },
   "outputs": [],
   "source": [
    "# apply model to test data\n",
    "preds = grid_search.predict(mush_test.drop(columns=['Id']).filter(X.columns))"
   ]
  },
  {
   "cell_type": "code",
   "execution_count": 108,
   "metadata": {},
   "outputs": [],
   "source": [
    "# test my submission\n",
    "results = pd.read_csv('../data/results.csv')"
   ]
  },
  {
   "cell_type": "code",
   "execution_count": 116,
   "metadata": {},
   "outputs": [],
   "source": [
    "(mush_test\n",
    "    .assign(poisonous = grid_search.predict(mush_test.drop(columns=['Id']).filter(X.columns))\n",
    "    )\n",
    "    .filter(['Id', 'poisonous'])\n",
    "    .to_csv('../data/submission.csv', index=False)\n",
    ")\n"
   ]
  },
  {
   "cell_type": "code",
   "execution_count": 99,
   "metadata": {},
   "outputs": [
    {
     "data": {
      "text/html": [
       "<div>\n",
       "<style scoped>\n",
       "    .dataframe tbody tr th:only-of-type {\n",
       "        vertical-align: middle;\n",
       "    }\n",
       "\n",
       "    .dataframe tbody tr th {\n",
       "        vertical-align: top;\n",
       "    }\n",
       "\n",
       "    .dataframe thead th {\n",
       "        text-align: right;\n",
       "    }\n",
       "</style>\n",
       "<table border=\"1\" class=\"dataframe\">\n",
       "  <thead>\n",
       "    <tr style=\"text-align: right;\">\n",
       "      <th>Predicted</th>\n",
       "      <th>0</th>\n",
       "      <th>1</th>\n",
       "    </tr>\n",
       "    <tr>\n",
       "      <th>Actual</th>\n",
       "      <th></th>\n",
       "      <th></th>\n",
       "    </tr>\n",
       "  </thead>\n",
       "  <tbody>\n",
       "    <tr>\n",
       "      <th>0</th>\n",
       "      <td>206</td>\n",
       "      <td>660</td>\n",
       "    </tr>\n",
       "    <tr>\n",
       "      <th>1</th>\n",
       "      <td>0</td>\n",
       "      <td>759</td>\n",
       "    </tr>\n",
       "  </tbody>\n",
       "</table>\n",
       "</div>"
      ],
      "text/plain": [
       "Predicted    0    1\n",
       "Actual             \n",
       "0          206  660\n",
       "1            0  759"
      ]
     },
     "execution_count": 99,
     "metadata": {},
     "output_type": "execute_result"
    }
   ],
   "source": [
    "# results on test data\n",
    "pd.crosstab(results['poisonous'], preds, rownames=['Actual'], colnames=['Predicted'])"
   ]
  }
 ],
 "metadata": {
  "kernelspec": {
   "display_name": "Python 3.9.7 ('base')",
   "language": "python",
   "name": "python3"
  },
  "language_info": {
   "codemirror_mode": {
    "name": "ipython",
    "version": 3
   },
   "file_extension": ".py",
   "mimetype": "text/x-python",
   "name": "python",
   "nbconvert_exporter": "python",
   "pygments_lexer": "ipython3",
   "version": "3.9.7"
  },
  "vscode": {
   "interpreter": {
    "hash": "c2238120c9728f74513279f8a3f1aeaaba1d165fa4f95681a8f2d6d36a71a29d"
   }
  }
 },
 "nbformat": 4,
 "nbformat_minor": 4
}
